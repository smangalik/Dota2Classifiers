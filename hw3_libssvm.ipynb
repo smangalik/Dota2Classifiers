{
 "cells": [
  {
   "cell_type": "markdown",
   "metadata": {},
   "source": [
    "## LibsSVM"
   ]
  },
  {
   "cell_type": "code",
   "execution_count": null,
   "metadata": {
    "collapsed": true
   },
   "outputs": [],
   "source": [
    "#from svmutil import *\n",
    "import pandas as pd\n",
    "import numpy as np"
   ]
  },
  {
   "cell_type": "code",
   "execution_count": null,
   "metadata": {},
   "outputs": [],
   "source": [
    "data = pd.read_csv('/home/ealvarez/Documents/SBU/CSE 353/dota2Train.csv')\n",
    "data.head(10)"
   ]
  },
  {
   "cell_type": "code",
   "execution_count": null,
   "metadata": {
    "collapsed": true
   },
   "outputs": [],
   "source": [
    "filename = '/home/ealvarez/Documents/SBU/CSE 353/new_input.txt'\n",
    "y, x = svm_read_problem(filename)"
   ]
  },
  {
   "cell_type": "code",
   "execution_count": null,
   "metadata": {},
   "outputs": [],
   "source": [
    "train_x = x[:60000]   # Training data\n",
    "test_x = x[60000:]    # Testing data\n",
    "train_y = y[:60000]   # Training labels\n",
    "test_y = y[60000:]    # testing labels"
   ]
  },
  {
   "cell_type": "code",
   "execution_count": null,
   "metadata": {
    "collapsed": true
   },
   "outputs": [],
   "source": [
    "m = svm_train(train_y, train_x, '-c 4')"
   ]
  },
  {
   "cell_type": "code",
   "execution_count": null,
   "metadata": {
    "collapsed": true
   },
   "outputs": [],
   "source": [
    "svm_save_model('doto.model', m)"
   ]
  },
  {
   "cell_type": "code",
   "execution_count": null,
   "metadata": {},
   "outputs": [],
   "source": [
    "p_label, p_acc, p_val = svm_predict(test_y, test_x, m)"
   ]
  },
  {
   "cell_type": "code",
   "execution_count": null,
   "metadata": {},
   "outputs": [],
   "source": [
    "print(p_acc)"
   ]
  },
  {
   "cell_type": "markdown",
   "metadata": {},
   "source": [
    "## Trying LibLinear"
   ]
  },
  {
   "cell_type": "code",
   "execution_count": 1,
   "metadata": {},
   "outputs": [],
   "source": [
    "import sys \n",
    "import os\n",
    "sys.path.append(os.path.abspath(\"/home/ealvarez/Documents/SBU/CSE 353/liblinear-2.20/python\"))\n",
    "from liblinearutil import *\n",
    "import pandas as pd\n",
    "import numpy as np"
   ]
  },
  {
   "cell_type": "code",
   "execution_count": 3,
   "metadata": {
    "collapsed": true
   },
   "outputs": [],
   "source": [
    "filename = '/home/ealvarez/Documents/SBU/CSE 353/new_input.txt'\n",
    "y_train, x_train = svm_read_problem(filename)"
   ]
  },
  {
   "cell_type": "code",
   "execution_count": 4,
   "metadata": {
    "collapsed": true
   },
   "outputs": [],
   "source": [
    "filename = '/home/ealvarez/Documents/SBU/CSE 353/Dota2Classifiers/input.txt'\n",
    "y_test, x_test = svm_read_problem(filename)"
   ]
  },
  {
   "cell_type": "code",
   "execution_count": 13,
   "metadata": {},
   "outputs": [
    {
     "name": "stdout",
     "output_type": "stream",
     "text": [
      "Accuracy = 46.5611% (4793/10294) (classification)\n",
      "(46.56110355546921, 2.1375558577812317, 8.461634275664859e-05)\n"
     ]
    }
   ],
   "source": [
    "m = train(y_train, x_train, '-c 4')\n",
    "p_label, p_acc, p_val = predict(y_test, x_test, m)\n",
    "print(p_acc)"
   ]
  },
  {
   "cell_type": "code",
   "execution_count": 14,
   "metadata": {},
   "outputs": [
    {
     "name": "stdout",
     "output_type": "stream",
     "text": [
      "Accuracy = 53.4972% (5507/10294) (classification)\n",
      "(53.49718282494656, 1.8601126870021372, 0.0005579568500388846)\n"
     ]
    }
   ],
   "source": [
    "m = train(y_train, x_train, '-c 4 -s 3')\n",
    "p_label, p_acc, p_val = predict(y_test, x_test, m)\n",
    "print(p_acc)"
   ]
  },
  {
   "cell_type": "code",
   "execution_count": 23,
   "metadata": {},
   "outputs": [
    {
     "name": "stdout",
     "output_type": "stream",
     "text": [
      "Accuracy = 59.7338% (6149/10294) (classification)\n",
      "(59.733825529434625, 1.6106469788226152, 0.03480276441044547)\n"
     ]
    }
   ],
   "source": [
    "m = train(y_train, x_train, '-c 10 -s 2')\n",
    "p_label, p_acc, p_val = predict(y_test, x_test, m)\n",
    "print(p_acc)"
   ]
  },
  {
   "cell_type": "code",
   "execution_count": 30,
   "metadata": {},
   "outputs": [
    {
     "name": "stdout",
     "output_type": "stream",
     "text": [
      "Accuracy = 59.5881% (6134/10294) (classification)\n",
      "(59.588109578395176, 1.6164756168641927, 0.033687638225587554)\n"
     ]
    }
   ],
   "source": [
    "m = train(y_train, x_train, '-c 10 -s 5')\n",
    "p_label, p_acc, p_val = predict(y_test, x_test, m)\n",
    "print(p_acc)"
   ]
  },
  {
   "cell_type": "markdown",
   "metadata": {},
   "source": [
    "### The following uses the -C parameter to find the best cost value and trained according to that value then tested on the test data."
   ]
  },
  {
   "cell_type": "code",
   "execution_count": 33,
   "metadata": {},
   "outputs": [
    {
     "name": "stdout",
     "output_type": "stream",
     "text": [
      "Best C = 0.001953  CV accuracy = 59.3006%\n",
      "\n",
      "Accuracy = 59.8115% (6157/10294) (classification)\n",
      "(59.81154070332232, 1.607538371867107, 0.03521477955760472)\n"
     ]
    }
   ],
   "source": [
    "best_C, best_rate = train(y_train, x_train, '-C -s 2')\n",
    "m = train(y_train, x_train, '-c {0} -s 2'.format(best_C)) # use the same solver: -s 2\n",
    "p_label, p_acc, p_val = predict(y_test, x_test, m)        # Once training with the best c parameter we train\n",
    "print(p_acc)"
   ]
  },
  {
   "cell_type": "markdown",
   "metadata": {},
   "source": [
    "### Using 15 folds to find the best accuracy and it is slightly better than the previous approach."
   ]
  },
  {
   "cell_type": "code",
   "execution_count": 50,
   "metadata": {},
   "outputs": [
    {
     "name": "stdout",
     "output_type": "stream",
     "text": [
      "Cross Validation Accuracy = 59.9158%\n",
      "59.91581219643821\n"
     ]
    }
   ],
   "source": [
    "CV_ACC = train(y_train, x_train, '-v 15 -s 2 -c 0.001953')\n",
    "print(CV_ACC)"
   ]
  },
  {
   "cell_type": "code",
   "execution_count": null,
   "metadata": {
    "collapsed": true
   },
   "outputs": [],
   "source": []
  }
 ],
 "metadata": {
  "kernelspec": {
   "display_name": "Python 3",
   "language": "python",
   "name": "python3"
  },
  "language_info": {
   "codemirror_mode": {
    "name": "ipython",
    "version": 3
   },
   "file_extension": ".py",
   "mimetype": "text/x-python",
   "name": "python",
   "nbconvert_exporter": "python",
   "pygments_lexer": "ipython3",
   "version": "3.6.3"
  }
 },
 "nbformat": 4,
 "nbformat_minor": 2
}
